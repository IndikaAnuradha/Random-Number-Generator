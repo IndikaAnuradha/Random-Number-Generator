{
 "cells": [
  {
   "cell_type": "code",
   "execution_count": null,
   "id": "b17f55ed",
   "metadata": {},
   "outputs": [],
   "source": [
    "import numpy as np\n",
    "import matplotlib.pyplot as plt\n",
    "import csv\n",
    "import random\n",
    "\n",
    "# Define the total number of random numbers\n",
    "total_numbers = 500\n",
    "\n",
    "# Calculate the number of numbers in each range based on percentages\n",
    "num_range_15_20 = int(total_numbers * 0.8)\n",
    "num_range_10_14_26_30 = total_numbers - num_range_15_20\n",
    "\n",
    "# Generate random numbers within each range\n",
    "range_15_20 = [random.randint(15, 20) for _ in range(num_range_15_20)]\n",
    "range_10_14_26_30 = [random.choice([random.randint(10, 14), random.randint(26, 30)]) for _ in range(num_range_10_14_26_30)]\n",
    "\n",
    "# Combine the lists of random numbers\n",
    "random_numbers = range_15_20 + range_10_14_26_30\n",
    "\n",
    "# Shuffle the list to randomize the order\n",
    "random.shuffle(random_numbers)\n",
    "\n",
    "# Write the random numbers to a CSV file\n",
    "with open('random_numbers.csv', 'w', newline='') as csvfile:\n",
    "    writer = csv.writer(csvfile)\n",
    "    writer.writerow(['Random Numbers'])\n",
    "    writer.writerows(map(lambda x: [x], random_numbers))\n",
    "\n",
    "print(\"Random numbers saved to 'random_numbers.csv'\")\n",
    "\n",
    "# Plot the random numbers\n",
    "plt.figure(figsize=(10, 6))\n",
    "plt.plot(random_numbers)\n",
    "plt.xlabel('Index')\n",
    "plt.ylabel('Random Numbers')\n",
    "plt.title('Random Numbers Plot')\n",
    "plt.grid(True)\n",
    "plt.show()"
   ]
  }
 ],
 "metadata": {
  "kernelspec": {
   "display_name": "Python 3 (ipykernel)",
   "language": "python",
   "name": "python3"
  },
  "language_info": {
   "codemirror_mode": {
    "name": "ipython",
    "version": 3
   },
   "file_extension": ".py",
   "mimetype": "text/x-python",
   "name": "python",
   "nbconvert_exporter": "python",
   "pygments_lexer": "ipython3",
   "version": "3.9.13"
  }
 },
 "nbformat": 4,
 "nbformat_minor": 5
}
